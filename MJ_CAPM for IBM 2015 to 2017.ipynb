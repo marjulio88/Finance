{
 "cells": [
  {
   "cell_type": "code",
   "execution_count": 1,
   "metadata": {},
   "outputs": [],
   "source": [
    "import pandas as pd\n",
    "\n",
    "import quandl\n",
    "import my_secrets\n",
    "quandl.ApiConfig.api_key = my_secrets.QUANDL_API_KEY\n",
    "\n",
    "import random\n",
    "import numpy as np\n",
    "\n",
    "from scipy import stats\n",
    "\n",
    "\n",
    "\n",
    "import altair as alt\n",
    "if not alt.data_transformers.active == 'json':  # Check json isn't already active\n",
    "    alt.data_transformers.enable('json')\n",
    "alt.renderers.enable('notebook')\n",
    "\n",
    "\n",
    "\n",
    "%matplotlib inline\n",
    "from matplotlib import pyplot as plt\n",
    "import seaborn as sns"
   ]
  },
  {
   "cell_type": "markdown",
   "metadata": {},
   "source": [
    "## Finding S&P 500 dataset\n",
    "- The code Below downloads the S&P 500 data from Quandl.\n",
    "- After that we are going to compute the percentage change on a daily basis as a value between 0 and 100% - not a decimal."
   ]
  },
  {
   "cell_type": "code",
   "execution_count": 2,
   "metadata": {},
   "outputs": [],
   "source": [
    "sp500 = quandl.get(\"CHRIS/CME_SP1\")\n",
    "\n",
    "sp500_sample = sp500.loc[\"2015\":\"2017\"].dropna()"
   ]
  },
  {
   "cell_type": "code",
   "execution_count": 3,
   "metadata": {},
   "outputs": [
    {
     "data": {
      "text/html": [
       "<div>\n",
       "<style scoped>\n",
       "    .dataframe tbody tr th:only-of-type {\n",
       "        vertical-align: middle;\n",
       "    }\n",
       "\n",
       "    .dataframe tbody tr th {\n",
       "        vertical-align: top;\n",
       "    }\n",
       "\n",
       "    .dataframe thead th {\n",
       "        text-align: right;\n",
       "    }\n",
       "</style>\n",
       "<table border=\"1\" class=\"dataframe\">\n",
       "  <thead>\n",
       "    <tr style=\"text-align: right;\">\n",
       "      <th></th>\n",
       "      <th>Open</th>\n",
       "      <th>High</th>\n",
       "      <th>Low</th>\n",
       "      <th>Last</th>\n",
       "      <th>Change</th>\n",
       "      <th>Settle</th>\n",
       "      <th>Volume</th>\n",
       "      <th>Previous Day Open Interest</th>\n",
       "    </tr>\n",
       "    <tr>\n",
       "      <th>Date</th>\n",
       "      <th></th>\n",
       "      <th></th>\n",
       "      <th></th>\n",
       "      <th></th>\n",
       "      <th></th>\n",
       "      <th></th>\n",
       "      <th></th>\n",
       "      <th></th>\n",
       "    </tr>\n",
       "  </thead>\n",
       "  <tbody>\n",
       "    <tr>\n",
       "      <th>2015-01-02</th>\n",
       "      <td>2055.0</td>\n",
       "      <td>2067.0</td>\n",
       "      <td>2039.5</td>\n",
       "      <td>2046.0</td>\n",
       "      <td>6.1</td>\n",
       "      <td>2046.3</td>\n",
       "      <td>5704.0</td>\n",
       "      <td>123911.0</td>\n",
       "    </tr>\n",
       "    <tr>\n",
       "      <th>2015-01-05</th>\n",
       "      <td>2043.7</td>\n",
       "      <td>2048.1</td>\n",
       "      <td>2010.0</td>\n",
       "      <td>2016.2</td>\n",
       "      <td>30.4</td>\n",
       "      <td>2015.9</td>\n",
       "      <td>11355.0</td>\n",
       "      <td>124285.0</td>\n",
       "    </tr>\n",
       "    <tr>\n",
       "      <th>2015-01-06</th>\n",
       "      <td>2018.9</td>\n",
       "      <td>2023.2</td>\n",
       "      <td>1984.0</td>\n",
       "      <td>1994.9</td>\n",
       "      <td>21.5</td>\n",
       "      <td>1994.4</td>\n",
       "      <td>11845.0</td>\n",
       "      <td>125744.0</td>\n",
       "    </tr>\n",
       "    <tr>\n",
       "      <th>2015-01-07</th>\n",
       "      <td>1997.1</td>\n",
       "      <td>2024.0</td>\n",
       "      <td>1995.8</td>\n",
       "      <td>2020.0</td>\n",
       "      <td>25.2</td>\n",
       "      <td>2019.6</td>\n",
       "      <td>4685.0</td>\n",
       "      <td>122933.0</td>\n",
       "    </tr>\n",
       "    <tr>\n",
       "      <th>2015-01-08</th>\n",
       "      <td>2021.2</td>\n",
       "      <td>2058.3</td>\n",
       "      <td>2020.8</td>\n",
       "      <td>2054.5</td>\n",
       "      <td>35.4</td>\n",
       "      <td>2055.0</td>\n",
       "      <td>9723.0</td>\n",
       "      <td>123385.0</td>\n",
       "    </tr>\n",
       "  </tbody>\n",
       "</table>\n",
       "</div>"
      ],
      "text/plain": [
       "              Open    High     Low    Last  Change  Settle   Volume  \\\n",
       "Date                                                                  \n",
       "2015-01-02  2055.0  2067.0  2039.5  2046.0     6.1  2046.3   5704.0   \n",
       "2015-01-05  2043.7  2048.1  2010.0  2016.2    30.4  2015.9  11355.0   \n",
       "2015-01-06  2018.9  2023.2  1984.0  1994.9    21.5  1994.4  11845.0   \n",
       "2015-01-07  1997.1  2024.0  1995.8  2020.0    25.2  2019.6   4685.0   \n",
       "2015-01-08  2021.2  2058.3  2020.8  2054.5    35.4  2055.0   9723.0   \n",
       "\n",
       "            Previous Day Open Interest  \n",
       "Date                                    \n",
       "2015-01-02                    123911.0  \n",
       "2015-01-05                    124285.0  \n",
       "2015-01-06                    125744.0  \n",
       "2015-01-07                    122933.0  \n",
       "2015-01-08                    123385.0  "
      ]
     },
     "execution_count": 3,
     "metadata": {},
     "output_type": "execute_result"
    }
   ],
   "source": [
    "sp500_sample.head()"
   ]
  },
  {
   "cell_type": "code",
   "execution_count": 4,
   "metadata": {},
   "outputs": [
    {
     "data": {
      "text/plain": [
       "Date\n",
       "2015-01-05   -1.456500\n",
       "2015-01-06   -1.056443\n",
       "2015-01-07    1.258208\n",
       "2015-01-08    1.707921\n",
       "2015-01-09   -0.934534\n",
       "Name: Last, dtype: float64"
      ]
     },
     "execution_count": 4,
     "metadata": {},
     "output_type": "execute_result"
    }
   ],
   "source": [
    "market = sp500_sample['Last'].pct_change().dropna() * 100 #Last is the closing price of shares.\n",
    "market.head()"
   ]
  },
  {
   "cell_type": "markdown",
   "metadata": {},
   "source": [
    "## Finding IBM dataset\n",
    "- The code Below downloads the IBM data from Quandl.\n",
    "- After that we are going to compute the percentage change on a daily basis as a value between 0 and 100% - not a decimal."
   ]
  },
  {
   "cell_type": "code",
   "execution_count": 5,
   "metadata": {},
   "outputs": [
    {
     "data": {
      "text/html": [
       "<div>\n",
       "<style scoped>\n",
       "    .dataframe tbody tr th:only-of-type {\n",
       "        vertical-align: middle;\n",
       "    }\n",
       "\n",
       "    .dataframe tbody tr th {\n",
       "        vertical-align: top;\n",
       "    }\n",
       "\n",
       "    .dataframe thead th {\n",
       "        text-align: right;\n",
       "    }\n",
       "</style>\n",
       "<table border=\"1\" class=\"dataframe\">\n",
       "  <thead>\n",
       "    <tr style=\"text-align: right;\">\n",
       "      <th></th>\n",
       "      <th>Open</th>\n",
       "      <th>High</th>\n",
       "      <th>Low</th>\n",
       "      <th>Close</th>\n",
       "      <th>Volume</th>\n",
       "      <th>Dividend</th>\n",
       "      <th>Split</th>\n",
       "      <th>Adj_Open</th>\n",
       "      <th>Adj_High</th>\n",
       "      <th>Adj_Low</th>\n",
       "      <th>Adj_Close</th>\n",
       "      <th>Adj_Volume</th>\n",
       "    </tr>\n",
       "    <tr>\n",
       "      <th>Date</th>\n",
       "      <th></th>\n",
       "      <th></th>\n",
       "      <th></th>\n",
       "      <th></th>\n",
       "      <th></th>\n",
       "      <th></th>\n",
       "      <th></th>\n",
       "      <th></th>\n",
       "      <th></th>\n",
       "      <th></th>\n",
       "      <th></th>\n",
       "      <th></th>\n",
       "    </tr>\n",
       "  </thead>\n",
       "  <tbody>\n",
       "    <tr>\n",
       "      <th>2013-09-03</th>\n",
       "      <td>183.63</td>\n",
       "      <td>184.32</td>\n",
       "      <td>182.51</td>\n",
       "      <td>183.96</td>\n",
       "      <td>3487200.0</td>\n",
       "      <td>0.0</td>\n",
       "      <td>1.0</td>\n",
       "      <td>147.900758</td>\n",
       "      <td>148.456503</td>\n",
       "      <td>146.998678</td>\n",
       "      <td>148.166549</td>\n",
       "      <td>3487200.0</td>\n",
       "    </tr>\n",
       "    <tr>\n",
       "      <th>2013-09-04</th>\n",
       "      <td>183.58</td>\n",
       "      <td>184.19</td>\n",
       "      <td>182.31</td>\n",
       "      <td>183.13</td>\n",
       "      <td>2597900.0</td>\n",
       "      <td>0.0</td>\n",
       "      <td>1.0</td>\n",
       "      <td>147.860486</td>\n",
       "      <td>148.351797</td>\n",
       "      <td>146.837593</td>\n",
       "      <td>147.498044</td>\n",
       "      <td>2597900.0</td>\n",
       "    </tr>\n",
       "    <tr>\n",
       "      <th>2013-09-05</th>\n",
       "      <td>183.35</td>\n",
       "      <td>185.00</td>\n",
       "      <td>183.07</td>\n",
       "      <td>184.15</td>\n",
       "      <td>2867600.0</td>\n",
       "      <td>0.0</td>\n",
       "      <td>1.0</td>\n",
       "      <td>147.675238</td>\n",
       "      <td>149.004194</td>\n",
       "      <td>147.449718</td>\n",
       "      <td>148.319580</td>\n",
       "      <td>2867600.0</td>\n",
       "    </tr>\n",
       "    <tr>\n",
       "      <th>2013-09-06</th>\n",
       "      <td>184.65</td>\n",
       "      <td>184.99</td>\n",
       "      <td>182.65</td>\n",
       "      <td>183.03</td>\n",
       "      <td>2903500.0</td>\n",
       "      <td>0.0</td>\n",
       "      <td>1.0</td>\n",
       "      <td>148.722294</td>\n",
       "      <td>148.996140</td>\n",
       "      <td>147.111438</td>\n",
       "      <td>147.417501</td>\n",
       "      <td>2903500.0</td>\n",
       "    </tr>\n",
       "    <tr>\n",
       "      <th>2013-09-09</th>\n",
       "      <td>183.68</td>\n",
       "      <td>185.49</td>\n",
       "      <td>183.31</td>\n",
       "      <td>184.98</td>\n",
       "      <td>3017200.0</td>\n",
       "      <td>0.0</td>\n",
       "      <td>1.0</td>\n",
       "      <td>147.941029</td>\n",
       "      <td>149.398854</td>\n",
       "      <td>147.643021</td>\n",
       "      <td>148.988086</td>\n",
       "      <td>3017200.0</td>\n",
       "    </tr>\n",
       "  </tbody>\n",
       "</table>\n",
       "</div>"
      ],
      "text/plain": [
       "              Open    High     Low   Close     Volume  Dividend  Split  \\\n",
       "Date                                                                     \n",
       "2013-09-03  183.63  184.32  182.51  183.96  3487200.0       0.0    1.0   \n",
       "2013-09-04  183.58  184.19  182.31  183.13  2597900.0       0.0    1.0   \n",
       "2013-09-05  183.35  185.00  183.07  184.15  2867600.0       0.0    1.0   \n",
       "2013-09-06  184.65  184.99  182.65  183.03  2903500.0       0.0    1.0   \n",
       "2013-09-09  183.68  185.49  183.31  184.98  3017200.0       0.0    1.0   \n",
       "\n",
       "              Adj_Open    Adj_High     Adj_Low   Adj_Close  Adj_Volume  \n",
       "Date                                                                    \n",
       "2013-09-03  147.900758  148.456503  146.998678  148.166549   3487200.0  \n",
       "2013-09-04  147.860486  148.351797  146.837593  147.498044   2597900.0  \n",
       "2013-09-05  147.675238  149.004194  147.449718  148.319580   2867600.0  \n",
       "2013-09-06  148.722294  148.996140  147.111438  147.417501   2903500.0  \n",
       "2013-09-09  147.941029  149.398854  147.643021  148.988086   3017200.0  "
      ]
     },
     "execution_count": 5,
     "metadata": {},
     "output_type": "execute_result"
    }
   ],
   "source": [
    "IBM = quandl.get(\"EOD/IBM\")\n",
    "IBM.head()"
   ]
  },
  {
   "cell_type": "code",
   "execution_count": 6,
   "metadata": {},
   "outputs": [],
   "source": [
    "IBM_sample = IBM['2015':\"2017\"].dropna()"
   ]
  },
  {
   "cell_type": "code",
   "execution_count": 7,
   "metadata": {},
   "outputs": [],
   "source": [
    "IBM_market = IBM_sample['Close'].pct_change().dropna() * 100"
   ]
  },
  {
   "cell_type": "markdown",
   "metadata": {},
   "source": [
    "## Computing $\\beta$ value\n",
    "\n",
    "The Beta of an investment is the volatility of the stock, in relation to the market. \n",
    "\n",
    "$\\beta = 1$ If the stock moves with the market (the market itself has, by definition, a Beta of 1.0). \n",
    "\n",
    "$\\beta < 1$ Stocks with low Beta values have less risk. \n",
    "\n",
    "$\\beta < 1$ High Beta values have high risk.\n",
    "\n",
    "To compute Beta, the equation is:\n",
    "\n",
    "$\\beta = \\frac{cov(a, m)}{var(m)}$\n",
    "\n",
    "Where $var(m)$ is the variance of the market, and $cov(a, m)$ is the covariance between the market and the given asset, in this case IBM."
   ]
  },
  {
   "cell_type": "code",
   "execution_count": 8,
   "metadata": {},
   "outputs": [
    {
     "name": "stdout",
     "output_type": "stream",
     "text": [
      "Market Variance: 0.616294599585142\n"
     ]
    }
   ],
   "source": [
    "market_variance = market[\"2015\":\"2017\"].var()\n",
    "print(f\"Market Variance: {market_variance}\")"
   ]
  },
  {
   "cell_type": "code",
   "execution_count": 9,
   "metadata": {},
   "outputs": [
    {
     "name": "stdout",
     "output_type": "stream",
     "text": [
      "Stock Covariance: 0.6086666731536453\n"
     ]
    }
   ],
   "source": [
    "stock_cov = market.corr(IBM_market)\n",
    "\n",
    "print(f\"Stock Covariance: {stock_cov}\")"
   ]
  },
  {
   "cell_type": "code",
   "execution_count": 10,
   "metadata": {},
   "outputs": [
    {
     "name": "stdout",
     "output_type": "stream",
     "text": [
      "Beta: 0.9876229218353829\n"
     ]
    }
   ],
   "source": [
    "beta = stock_cov / market_variance\n",
    "\n",
    "print(f\"Beta: {beta}\")"
   ]
  },
  {
   "cell_type": "markdown",
   "metadata": {},
   "source": [
    "$\\beta = 1$ which means that the stock moves according to the market"
   ]
  },
  {
   "cell_type": "markdown",
   "metadata": {},
   "source": [
    "## CAPM - Capital Asset Pricing Model\n",
    "\n",
    "The CAPM model is a widely used model to determine expected returns for an asset and the impact of systematic risk. \n",
    "\n",
    "Systematic risk is the risk inherent to the entire market or market segment. Systematic risk, also known as “undiversifiable risk,” “volatility” or “market risk,” affects the overall market, not just a particular stock or industry. This type of risk is both unpredictable and impossible to completely avoid.\n",
    "\n",
    "One method for calculating systematic risk is to measure the correlation between a stock and the market in general.\n",
    "\n",
    "The CAPM model is:\n",
    "\n",
    "\n",
    "$ CAPM = R_f + \\beta (\\bar{R_m} - R_f)$\n",
    "\n",
    "Where:\n",
    "\n",
    "* $CAPM$ is the expected return of the investment\n",
    "* $R_f$ is the risk free rate (The risk-free rate of return is the theoretical rate of return of an investment with zero risk)\n",
    "* $\\beta$ is the Beta of the investment (calculated above)\n",
    "* $\\bar{R_m}$ is the expected return of the market\n",
    "\n",
    "* Note that the value $(\\bar{R_m} - R_f)$ is also known as the market risk premium."
   ]
  },
  {
   "cell_type": "code",
   "execution_count": 11,
   "metadata": {},
   "outputs": [
    {
     "name": "stdout",
     "output_type": "stream",
     "text": [
      "Return on Market: 0.09319535187362149\n",
      "CAPM: 0.0924131780638412\n"
     ]
    }
   ],
   "source": [
    "e = ending_balance = sp500_sample.iloc[-1][\"Last\"]\n",
    "s = starting_balance = sp500_sample.iloc[0][\"Last\"]\n",
    "n = number_years = 3  # 2015, 2016, 2017\n",
    "return_on_market = (e / s) ** (1 / n) - 1\n",
    "\n",
    "print(f\"Return on Market: {return_on_market}\")\n",
    "\n",
    "capm = .03  + beta * (return_on_market - .03)\n",
    "print(f\"CAPM: {capm}\")\n"
   ]
  },
  {
   "cell_type": "markdown",
   "metadata": {},
   "source": [
    "## Conclusion\n",
    "\n",
    "Capital Asset Pricing Model (CAPM) Summary\n",
    "The CAPM uses the principles of Modern Portfolio Theory to determine if a security is fairly valued. It relies on assumptions about investor behaviors, risk and return distributions, and market fundamentals that don’t match reality. However, the underlying concepts of CAPM and the associated efficient frontier can help investors understand the relationship between expected risk and reward as they make better decisions about adding securities to a portfolio."
   ]
  },
  {
   "cell_type": "markdown",
   "metadata": {},
   "source": [
    "## References\n",
    "\n",
    "- https://www.investopedia.com/terms/c/capm.asp - CAPM\n",
    "- https://www.quandl.com/ - Stock datasets\n",
    "- "
   ]
  },
  {
   "cell_type": "code",
   "execution_count": null,
   "metadata": {},
   "outputs": [],
   "source": []
  }
 ],
 "metadata": {
  "kernelspec": {
   "display_name": "Python 3",
   "language": "python",
   "name": "python3"
  },
  "language_info": {
   "codemirror_mode": {
    "name": "ipython",
    "version": 3
   },
   "file_extension": ".py",
   "mimetype": "text/x-python",
   "name": "python",
   "nbconvert_exporter": "python",
   "pygments_lexer": "ipython3",
   "version": "3.7.0"
  }
 },
 "nbformat": 4,
 "nbformat_minor": 2
}
